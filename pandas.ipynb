{
  "nbformat": 4,
  "nbformat_minor": 0,
  "metadata": {
    "colab": {
      "provenance": [],
      "authorship_tag": "ABX9TyMoJttmvbfHUOgfAOznPYBK",
      "include_colab_link": true
    },
    "kernelspec": {
      "name": "python3",
      "display_name": "Python 3"
    },
    "language_info": {
      "name": "python"
    }
  },
  "cells": [
    {
      "cell_type": "markdown",
      "metadata": {
        "id": "view-in-github",
        "colab_type": "text"
      },
      "source": [
        "<a href=\"https://colab.research.google.com/github/Khrayshah/ML/blob/main/pandas.ipynb\" target=\"_parent\"><img src=\"https://colab.research.google.com/assets/colab-badge.svg\" alt=\"Open In Colab\"/></a>"
      ]
    },
    {
      "cell_type": "code",
      "execution_count": null,
      "metadata": {
        "id": "_p5nMu8lFFX5"
      },
      "outputs": [],
      "source": [
        "import matplotlib.pyplot as pl\n",
        "import pandas as pd\n",
        "import numpy as np"
      ]
    },
    {
      "cell_type": "code",
      "source": [
        "df = pd.read_csv('data/titanic-train.csv')"
      ],
      "metadata": {
        "id": "wzZ3S2M5HXvy"
      },
      "execution_count": null,
      "outputs": []
    },
    {
      "cell_type": "code",
      "source": [
        "type(df)"
      ],
      "metadata": {
        "collapsed": true,
        "id": "Djt34gNPMSC0"
      },
      "execution_count": null,
      "outputs": []
    },
    {
      "cell_type": "code",
      "source": [
        "df.head()"
      ],
      "metadata": {
        "id": "K8g9eJCYMTlo"
      },
      "execution_count": null,
      "outputs": []
    },
    {
      "cell_type": "code",
      "source": [
        "df.info()"
      ],
      "metadata": {
        "collapsed": true,
        "id": "jYLpDVCWMTpA"
      },
      "execution_count": null,
      "outputs": []
    },
    {
      "cell_type": "code",
      "source": [
        "df.describe()"
      ],
      "metadata": {
        "collapsed": true,
        "id": "DjlyRUKPMTvP"
      },
      "execution_count": null,
      "outputs": []
    },
    {
      "cell_type": "code",
      "source": [
        "df.iloc[0]"
      ],
      "metadata": {
        "id": "s-FbcOd9MT0x"
      },
      "execution_count": null,
      "outputs": []
    },
    {
      "cell_type": "code",
      "source": [
        "df.loc[2:4]"
      ],
      "metadata": {
        "id": "7SynUSUuON4a"
      },
      "execution_count": null,
      "outputs": []
    },
    {
      "cell_type": "code",
      "source": [
        "df.loc[2:4, ['Name','Sex', 'Age']]"
      ],
      "metadata": {
        "id": "_B4DC6-3OOEC"
      },
      "execution_count": null,
      "outputs": []
    },
    {
      "cell_type": "code",
      "source": [
        "df[['Name','Sex']].head(10)"
      ],
      "metadata": {
        "id": "gAwwCU1tOOHc"
      },
      "execution_count": null,
      "outputs": []
    },
    {
      "cell_type": "code",
      "source": [
        "df['Age']>70"
      ],
      "metadata": {
        "id": "BQMtQFw-OOLH"
      },
      "execution_count": null,
      "outputs": []
    },
    {
      "cell_type": "code",
      "source": [
        "df[df['Age']>70]"
      ],
      "metadata": {
        "id": "F41U9EZ5OONb"
      },
      "execution_count": null,
      "outputs": []
    },
    {
      "cell_type": "code",
      "source": [
        "df.query('Age>70')"
      ],
      "metadata": {
        "id": "_Gn5EjzgRUBi"
      },
      "execution_count": null,
      "outputs": []
    },
    {
      "cell_type": "code",
      "source": [
        "df[(df['Age']== 11) &(df['SibSp']==5)]"
      ],
      "metadata": {
        "id": "ayS9M3w-RVwh"
      },
      "execution_count": null,
      "outputs": []
    },
    {
      "cell_type": "code",
      "source": [
        "df[(df['Age']== 11) | (df['SibSp']==5)]"
      ],
      "metadata": {
        "id": "TIiP42lHRV7Y"
      },
      "execution_count": null,
      "outputs": []
    },
    {
      "cell_type": "code",
      "source": [
        "df.query('(Age == 11) | (SibSp == 5) ')"
      ],
      "metadata": {
        "id": "e-Njp2v_RV-5"
      },
      "execution_count": null,
      "outputs": []
    },
    {
      "cell_type": "code",
      "source": [
        "df['Embarked'].unique()"
      ],
      "metadata": {
        "id": "mkGQLb8yRWCc"
      },
      "execution_count": null,
      "outputs": []
    },
    {
      "cell_type": "code",
      "source": [
        "df['Age'].sort_values(ascending= False).head()"
      ],
      "metadata": {
        "id": "xLbVpVOuRWGN"
      },
      "execution_count": null,
      "outputs": []
    },
    {
      "cell_type": "code",
      "source": [
        "df.groupby(['Pclass','Survived']).count()"
      ],
      "metadata": {
        "id": "-K1eBO8URWeb"
      },
      "execution_count": null,
      "outputs": []
    },
    {
      "cell_type": "code",
      "source": [
        "df.groupby(['Pclass', 'Survived'])['PassengerId'].count()"
      ],
      "metadata": {
        "id": "ff3USVhvUSsq"
      },
      "execution_count": null,
      "outputs": []
    },
    {
      "cell_type": "code",
      "source": [
        "mean_age_by_survived = df.groupby('Survived')['Age'].mean()\n",
        "mean_age_by_survived"
      ],
      "metadata": {
        "id": "vRcZx1SqUS4g"
      },
      "execution_count": null,
      "outputs": []
    },
    {
      "cell_type": "code",
      "source": [
        "std_age_by_survived = df.groupby('Survived')['Age'].std()\n",
        "std_age_by_survived"
      ],
      "metadata": {
        "id": "H2CBRo8PmBTc"
      },
      "execution_count": null,
      "outputs": []
    },
    {
      "cell_type": "markdown",
      "source": [
        "# **Merge**"
      ],
      "metadata": {
        "id": "sJvfI4iblor7"
      }
    },
    {
      "cell_type": "code",
      "source": [
        "df1 = mean_age_by_survived.round(0).reset_index()\n",
        "df2 = std_age_by_survived.round(0).reset_index()"
      ],
      "metadata": {
        "id": "lAicePwpUS8M"
      },
      "execution_count": null,
      "outputs": []
    },
    {
      "cell_type": "code",
      "source": [
        "df1"
      ],
      "metadata": {
        "id": "INsFcVr2US_U"
      },
      "execution_count": null,
      "outputs": []
    },
    {
      "cell_type": "code",
      "source": [
        "df2"
      ],
      "metadata": {
        "id": "XFRAC3WmUTDh"
      },
      "execution_count": null,
      "outputs": []
    },
    {
      "cell_type": "code",
      "source": [
        "df3 = pd.merge(df1, df2, on='Survived')"
      ],
      "metadata": {
        "id": "SRVhRuEGmRGv"
      },
      "execution_count": null,
      "outputs": []
    },
    {
      "cell_type": "code",
      "source": [
        "df3\n"
      ],
      "metadata": {
        "id": "7v7OfrfrmRKD"
      },
      "execution_count": null,
      "outputs": []
    },
    {
      "cell_type": "markdown",
      "source": [
        "# Pivot Tables"
      ],
      "metadata": {
        "id": "v7lQHaSamhpx"
      }
    },
    {
      "cell_type": "code",
      "source": [
        "df.pivot_table(index= 'Pclass', columns='Survived', values='PassengerId',aggfunc='count')"
      ],
      "metadata": {
        "id": "lJjrlpX6RWhg"
      },
      "execution_count": null,
      "outputs": []
    },
    {
      "cell_type": "markdown",
      "source": [
        "# **Correlations**"
      ],
      "metadata": {
        "id": "Jo9dlNEHmtan"
      }
    },
    {
      "cell_type": "code",
      "source": [
        "df['IsFemale'] = df['Sex'] == 'female'"
      ],
      "metadata": {
        "id": "ucR9aPsDmRQO"
      },
      "execution_count": null,
      "outputs": []
    },
    {
      "cell_type": "code",
      "source": [
        "correlated_with_survived = df.select_dtypes(include=np.number).corr()['Survived'].sort_values()\n",
        "correlated_with_survived"
      ],
      "metadata": {
        "id": "7FVPvIxYmzEM"
      },
      "execution_count": null,
      "outputs": []
    },
    {
      "cell_type": "code",
      "source": [
        "correlated_with_survived.iloc[:-1].plot(kind='bar', title='Titanic Passengers: correlation with survival');"
      ],
      "metadata": {
        "id": "dYksodwEmzH9"
      },
      "execution_count": null,
      "outputs": []
    }
  ]
}