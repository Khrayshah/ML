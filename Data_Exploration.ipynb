{
  "nbformat": 4,
  "nbformat_minor": 0,
  "metadata": {
    "colab": {
      "provenance": [],
      "authorship_tag": "ABX9TyNIX2ulXX4X02V4ADhfnr7Z",
      "include_colab_link": true
    },
    "kernelspec": {
      "name": "python3",
      "display_name": "Python 3"
    },
    "language_info": {
      "name": "python"
    }
  },
  "cells": [
    {
      "cell_type": "markdown",
      "metadata": {
        "id": "view-in-github",
        "colab_type": "text"
      },
      "source": [
        "<a href=\"https://colab.research.google.com/github/Khrayshah/ML/blob/main/Data_Exploration.ipynb\" target=\"_parent\"><img src=\"https://colab.research.google.com/assets/colab-badge.svg\" alt=\"Open In Colab\"/></a>"
      ]
    },
    {
      "cell_type": "code",
      "execution_count": null,
      "metadata": {
        "id": "ZygmyaLRzIF9"
      },
      "outputs": [],
      "source": [
        "import matplotlib.pyplot as plt\n",
        "import numpy as np\n",
        "import pandas as pd\n",
        "import numpy as np"
      ]
    },
    {
      "cell_type": "code",
      "source": [
        "df = pd.read_csv('data/international-airline-passengers.csv')"
      ],
      "metadata": {
        "id": "UJKVRJfk0Y2S"
      },
      "execution_count": null,
      "outputs": []
    },
    {
      "cell_type": "code",
      "source": [
        "df.info()"
      ],
      "metadata": {
        "id": "N6Wq9Srn0Y5w"
      },
      "execution_count": null,
      "outputs": []
    },
    {
      "cell_type": "code",
      "source": [
        "df.head()"
      ],
      "metadata": {
        "id": "C-0K6bjT0Y8W"
      },
      "execution_count": null,
      "outputs": []
    },
    {
      "cell_type": "code",
      "source": [
        "df['Month'] = pd.to_datetime(df['Month'])\n",
        "df = df.set_index('Month')\n"
      ],
      "metadata": {
        "id": "4_aaowIG0Y_C"
      },
      "execution_count": null,
      "outputs": []
    },
    {
      "cell_type": "code",
      "source": [
        "df.head()"
      ],
      "metadata": {
        "id": "KyLKxYEi0ZFu"
      },
      "execution_count": null,
      "outputs": []
    },
    {
      "cell_type": "code",
      "source": [
        "df.plot(kind='line')"
      ],
      "metadata": {
        "id": "6PU_rABU0ZJX"
      },
      "execution_count": null,
      "outputs": []
    },
    {
      "cell_type": "code",
      "source": [
        "dfw = pd.read_csv('data/weight-height.csv')"
      ],
      "metadata": {
        "id": "wjgmNfj00ZLS"
      },
      "execution_count": null,
      "outputs": []
    },
    {
      "cell_type": "code",
      "source": [
        "dfw.info()"
      ],
      "metadata": {
        "id": "-hMf0_TNs5zk"
      },
      "execution_count": null,
      "outputs": []
    },
    {
      "cell_type": "code",
      "source": [
        "dfw.head()"
      ],
      "metadata": {
        "id": "pV4n7MqStALI"
      },
      "execution_count": null,
      "outputs": []
    },
    {
      "cell_type": "code",
      "source": [
        "dfw.describe()"
      ],
      "metadata": {
        "id": "yRhLTG8ftqfT"
      },
      "execution_count": null,
      "outputs": []
    },
    {
      "cell_type": "code",
      "source": [
        "dfw['Gender'].value_counts()"
      ],
      "metadata": {
        "id": "mfZs4ylxt4tl"
      },
      "execution_count": null,
      "outputs": []
    },
    {
      "cell_type": "code",
      "source": [
        "dfw.plot(kind='scatter', x='Height', y='Weight')"
      ],
      "metadata": {
        "id": "LZ0w-DZJtUQU"
      },
      "execution_count": null,
      "outputs": []
    },
    {
      "cell_type": "code",
      "source": [
        "males = dfw[dfw['Gender'] == 'Male']\n",
        "females = dfw[dfw['Gender'] == 'Female']\n",
        "fig , ax = plt.subplots()\n",
        "females.plot(kind='scatter', x='Height', y='Weight', color='red', ax=ax ,alpha=0.3)\n",
        "males.plot(kind='scatter', x='Height', y='Weight', color='blue', ax=ax, alpha=.4)\n",
        "\n"
      ],
      "metadata": {
        "id": "bn4lrLhltikX"
      },
      "execution_count": null,
      "outputs": []
    },
    {
      "cell_type": "code",
      "source": [
        "females['Height'].plot(kind='hist',bins=60,alpha=0.3)\n",
        "males['Height'].plot(kind='hist',bins=60,alpha=0.3)"
      ],
      "metadata": {
        "id": "Py_VpDlJxPAl"
      },
      "execution_count": null,
      "outputs": []
    },
    {
      "cell_type": "code",
      "source": [
        "females['Height'].plot(kind='hist',bins=60, range=(50,80),alpha=0.3 , cumulative= True, density=True)\n",
        "males['Height'].plot(kind='hist',bins=60,range=(50,80), alpha=0.3 , cumulative= True , density=True)\n",
        "plt.title('Height Distribution')\n",
        "plt.xlabel('Height')\n",
        "plt.ylabel('Frequency')\n",
        "plt.legend(['Female','Male'])\n",
        "plt.axhline(y=0.8, color='k')\n",
        "plt.axhline(y=0.5, color='k')\n",
        "plt.axhline(y=0.2, color='k')"
      ],
      "metadata": {
        "id": "SsnWrIw3y-ES"
      },
      "execution_count": null,
      "outputs": []
    },
    {
      "cell_type": "code",
      "source": [
        "dfb = dfw.pivot(columns='Gender', values='Weight')"
      ],
      "metadata": {
        "id": "WhMEI1Q516B3"
      },
      "execution_count": null,
      "outputs": []
    },
    {
      "cell_type": "code",
      "source": [
        "dfb.head()"
      ],
      "metadata": {
        "id": "2YNxOkZO2OkZ"
      },
      "execution_count": null,
      "outputs": []
    },
    {
      "cell_type": "code",
      "source": [
        "dfb.info()"
      ],
      "metadata": {
        "id": "Yt3b6MF32XgT"
      },
      "execution_count": null,
      "outputs": []
    },
    {
      "cell_type": "code",
      "source": [
        "dfb.plot(kind='box')\n",
        "plt.title('Height Distribution')\n",
        "plt.xlabel('Height')\n",
        "plt.ylabel('Frequency')\n",
        "plt.legend(['Female','Male'])"
      ],
      "metadata": {
        "id": "rsItW0nlxPO9"
      },
      "execution_count": null,
      "outputs": []
    },
    {
      "cell_type": "code",
      "source": [],
      "metadata": {
        "id": "5-jhFxzHxPdD"
      },
      "execution_count": null,
      "outputs": []
    }
  ]
}